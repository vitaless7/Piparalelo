{
  "nbformat": 4,
  "nbformat_minor": 0,
  "metadata": {
    "colab": {
      "provenance": [],
      "authorship_tag": "ABX9TyOQhuy3Qs5VVOe2a4/sIYHf",
      "include_colab_link": true
    },
    "kernelspec": {
      "name": "python3",
      "display_name": "Python 3"
    },
    "language_info": {
      "name": "python"
    }
  },
  "cells": [
    {
      "cell_type": "markdown",
      "metadata": {
        "id": "view-in-github",
        "colab_type": "text"
      },
      "source": [
        "<a href=\"https://colab.research.google.com/github/vitaless7/Piparalelo/blob/main/pi_Paralelo.ipynb\" target=\"_parent\"><img src=\"https://colab.research.google.com/assets/colab-badge.svg\" alt=\"Open In Colab\"/></a>"
      ]
    },
    {
      "cell_type": "code",
      "execution_count": null,
      "metadata": {
        "colab": {
          "base_uri": "https://localhost:8080/"
        },
        "id": "QxiUFArUGXtW",
        "outputId": "daf3d76a-0966-4f97-b248-e58fc1c05c3d"
      },
      "outputs": [
        {
          "output_type": "stream",
          "name": "stdout",
          "text": [
            "Estimativa de π: 3.139652\n"
          ]
        }
      ],
      "source": [
        "import random\n",
        "from multiprocessing import Pool\n",
        "\n",
        "def pontos_dentro_circulo(amostras):\n",
        "    dentro = 0\n",
        "    for _ in range(amostras):\n",
        "        x, y = random.random(), random.random()\n",
        "        if x**2 + y**2 <= 1:\n",
        "            dentro += 1\n",
        "    return dentro\n",
        "\n",
        "if __name__ == \"__main__\":\n",
        "    total_amostras = 1000000\n",
        "    num_processos = 4\n",
        "\n",
        "\n",
        "    amostras_por_processo = total_amostras // num_processos\n",
        "\n",
        "\n",
        "    with Pool(num_processos) as pool:\n",
        "        resultados = pool.map(pontos_dentro_circulo, [amostras_por_processo] * num_processos)\n",
        "\n",
        "\n",
        "    total_dentro = sum(resultados)\n",
        "    pi = 4 * total_dentro / total_amostras\n",
        "\n",
        "    print(f\"Estimativa de π: {pi}\")\n"
      ]
    }
  ]
}